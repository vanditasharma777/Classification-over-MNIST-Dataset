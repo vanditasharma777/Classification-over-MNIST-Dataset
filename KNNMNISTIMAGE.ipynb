{
 "cells": [
  {
   "cell_type": "code",
   "execution_count": 3,
   "metadata": {},
   "outputs": [
    {
     "name": "stdout",
     "output_type": "stream",
     "text": [
      "Confusion Matrix:\n",
      "[[75  0  0  0  1  0  0  0  0  0]\n",
      " [ 0 66  0  0  0  0  0  0  0  0]\n",
      " [ 0  1 54  0  0  0  0  0  0  0]\n",
      " [ 0  0  1 81  0  0  0  1  0  1]\n",
      " [ 0  1  0  0 69  0  0  1  1  1]\n",
      " [ 0  0  0  0  0 85  0  0  0  1]\n",
      " [ 0  0  0  0  0  0 64  0  0  0]\n",
      " [ 0  0  0  0  0  0  0 61  0  1]\n",
      " [ 0  4  1  2  0  0  0  0 69  0]\n",
      " [ 0  0  0  0  0  1  1  1  3 71]]\n",
      "Classification Report:\n",
      "             precision    recall  f1-score   support\n",
      "\n",
      "          0       1.00      0.99      0.99        76\n",
      "          1       0.92      1.00      0.96        66\n",
      "          2       0.96      0.98      0.97        55\n",
      "          3       0.98      0.96      0.97        84\n",
      "          4       0.99      0.95      0.97        73\n",
      "          5       0.99      0.99      0.99        86\n",
      "          6       0.98      1.00      0.99        64\n",
      "          7       0.95      0.98      0.97        62\n",
      "          8       0.95      0.91      0.93        76\n",
      "          9       0.95      0.92      0.93        77\n",
      "\n",
      "avg / total       0.97      0.97      0.97       719\n",
      "\n",
      "Accuracy: 0.9666203059805285\n"
     ]
    }
   ],
   "source": [
    "#import necessary packages\n",
    "from sklearn import datasets\n",
    "import pandas as pd\n",
    "\n",
    "#provide dataset\n",
    "mnist = datasets.load_digits()\n",
    "X = mnist.data #create feature matrix\n",
    "Y = mnist.target #create target vector\n",
    "\n",
    "#divide data into training and test data\n",
    "from sklearn.model_selection import train_test_split\n",
    "X_train,X_test,Y_train,Y_test=train_test_split(X,Y,test_size = 0.40)\n",
    "\n",
    "# data scaling\n",
    "from sklearn.preprocessing import StandardScaler\n",
    "scaler = StandardScaler()\n",
    "scaler.fit(X_train)\n",
    "X_train = scaler.transform(X_train)\n",
    "X_test = scaler.transform(X_test)\n",
    "\n",
    "# train model with help of KNeighborsClassifier of sklearn\n",
    "from sklearn.neighbors import KNeighborsClassifier\n",
    "classifier = KNeighborsClassifier()\n",
    "classifier.fit(X_train,Y_train)\n",
    "\n",
    "# make prediction\n",
    "Y_pred = classifier.predict(X_test)\n",
    "\n",
    "# Print the result\n",
    "from sklearn.metrics import classification_report, confusion_matrix,accuracy_score\n",
    "result = confusion_matrix(Y_test,Y_pred)\n",
    "print(\"Confusion Matrix:\")\n",
    "print(result)\n",
    "result1=classification_report(Y_test,Y_pred)\n",
    "print(\"Classification Report:\")\n",
    "print(result1)\n",
    "result2=accuracy_score(Y_test,Y_pred)\n",
    "print(\"Accuracy:\",result2)"
   ]
  },
  {
   "cell_type": "code",
   "execution_count": null,
   "metadata": {},
   "outputs": [],
   "source": []
  }
 ],
 "metadata": {
  "kernelspec": {
   "display_name": "Python 3",
   "language": "python",
   "name": "python3"
  },
  "language_info": {
   "codemirror_mode": {
    "name": "ipython",
    "version": 3
   },
   "file_extension": ".py",
   "mimetype": "text/x-python",
   "name": "python",
   "nbconvert_exporter": "python",
   "pygments_lexer": "ipython3",
   "version": "3.6.5"
  }
 },
 "nbformat": 4,
 "nbformat_minor": 2
}
