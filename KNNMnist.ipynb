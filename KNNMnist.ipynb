{
 "cells": [
  {
   "cell_type": "code",
   "execution_count": null,
   "metadata": {},
   "outputs": [],
   "source": [
    "from future import printfunction\n",
    "from sklearn.neighbors import KNeighborsClassifier\n",
    "from sklearn.metrics import classification_report\n",
    "from sklearn.metrics import accuracy_score\n",
    "from sklearn.metrics import confusion_matrix\n",
    "import skimage\n",
    "from sklearn import datasets\n",
    "import numpy as np\n",
    "import imutils\n",
    "import cv2"
   ]
  },
  {
   "cell_type": "code",
   "execution_count": 13,
   "metadata": {},
   "outputs": [],
   "source": [
    "#if int((sklearn._version_).split(\".\")[1]) < 18:\n",
    "   # from sklearn.cross_validation import train_test_split\n",
    "#else:\n",
    "from sklearn.model_selection import train_test_split\n",
    "mnist = datasets.load_digits()\n",
    "(trainData, testData, trainLabels, testLabels) = train_test_split(np.array(mnist.data), \n",
    "          mnist.target, test_size=0.40, random_state=42)\n",
    "(trainData, valData, trainLabels, valLabels) = train_test_split(trainData,trainLabels,\n",
    "            test_size=0.1, random_state=84)\n",
    "        \n",
    "        "
   ]
  },
  {
   "cell_type": "code",
   "execution_count": 14,
   "metadata": {},
   "outputs": [
    {
     "name": "stdout",
     "output_type": "stream",
     "text": [
      "training data points: 970\n",
      "validation data points: 108\n",
      "testing data points: 719\n"
     ]
    }
   ],
   "source": [
    "print(\"training data points: {}\".format(len(trainLabels)))\n",
    "print(\"validation data points: {}\".format(len(valLabels)))\n",
    "print(\"testing data points: {}\".format(len(testLabels)))\n"
   ]
  },
  {
   "cell_type": "code",
   "execution_count": 15,
   "metadata": {
    "scrolled": true
   },
   "outputs": [
    {
     "name": "stdout",
     "output_type": "stream",
     "text": [
      "k=1, accuracy=99.07%\n",
      "k=3, accuracy=98.15%\n",
      "k=5, accuracy=98.15%\n",
      "k=7, accuracy=97.22%\n",
      "k=9, accuracy=97.22%\n",
      "k=11, accuracy=97.22%\n",
      "k=13, accuracy=97.22%\n",
      "k=15, accuracy=97.22%\n",
      "k=17, accuracy=97.22%\n",
      "k=19, accuracy=96.30%\n",
      "k=21, accuracy=96.30%\n",
      "k=23, accuracy=97.22%\n",
      "k=25, accuracy=95.37%\n",
      "k=27, accuracy=95.37%\n",
      "k=29, accuracy=94.44%\n",
      "k=1 achieved highest accuracy of 99.07% on validation data\n"
     ]
    }
   ],
   "source": [
    "# initialize the value of K for our K_Nearest Neighbor classifier along with the list of accuracies for each value of k\n",
    "kVals = range(1, 30, 2)\n",
    "accuracies = []\n",
    "\n",
    "# loop over various values of'K' for the  K_Nearest Neighbor classifier \n",
    "for k in range(1, 30, 2):\n",
    "    # train the  k_Nearest Neighbor classifier with the current value of 'k'\n",
    "    model = KNeighborsClassifier(n_neighbors=k)\n",
    "    model.fit(trainData, trainLabels)\n",
    "    # evaluate the model and update the accuracies list\n",
    "    score = model.score(valData, valLabels)\n",
    "    print(\"k=%d, accuracy=%.2f%%\" % (k, score * 100))\n",
    "    accuracies.append(score)\n",
    "    \n",
    "    # find the value of k that has the largest accuracy\n",
    "i= int(np.argmax(accuracies))\n",
    "print(\"k=%d achieved highest accuracy of %.2f%% on validation data\" % (kVals[i],accuracies[i] * 100))\n",
    "\n"
   ]
  },
  {
   "cell_type": "code",
   "execution_count": 16,
   "metadata": {},
   "outputs": [
    {
     "name": "stdout",
     "output_type": "stream",
     "text": [
      "EVALUATION ON TESTING DATA\n",
      "             precision    recall  f1-score   support\n",
      "\n",
      "          0       1.00      1.00      1.00        67\n",
      "          1       0.96      1.00      0.98        72\n",
      "          2       1.00      1.00      1.00        66\n",
      "          3       0.97      0.99      0.98        71\n",
      "          4       0.99      0.99      0.99        78\n",
      "          5       1.00      0.99      0.99        83\n",
      "          6       1.00      1.00      1.00        69\n",
      "          7       1.00      0.99      0.99        71\n",
      "          8       0.98      0.97      0.98        65\n",
      "          9       0.97      0.96      0.97        77\n",
      "\n",
      "avg / total       0.99      0.99      0.99       719\n",
      "\n"
     ]
    }
   ],
   "source": [
    "\n",
    "# re-train our classifier using the best k value and predict the labels of the\n",
    "# test data\n",
    "model = KNeighborsClassifier(n_neighbors=kVals[i])\n",
    "model.fit(trainData, trainLabels)\n",
    "predictions = model.predict(testData)\n",
    " \n",
    "# show a final classification report demonstrating the accuracy of the classifier\n",
    "# for each of the digits\n",
    "print(\"EVALUATION ON TESTING DATA\")\n",
    "print(classification_report(testLabels, predictions))\n"
   ]
  },
  {
   "cell_type": "code",
   "execution_count": null,
   "metadata": {},
   "outputs": [],
   "source": []
  }
 ],
 "metadata": {
  "kernelspec": {
   "display_name": "Python 3",
   "language": "python",
   "name": "python3"
  },
  "language_info": {
   "codemirror_mode": {
    "name": "ipython",
    "version": 3
   },
   "file_extension": ".py",
   "mimetype": "text/x-python",
   "name": "python",
   "nbconvert_exporter": "python",
   "pygments_lexer": "ipython3",
   "version": "3.6.5"
  }
 },
 "nbformat": 4,
 "nbformat_minor": 2
}
