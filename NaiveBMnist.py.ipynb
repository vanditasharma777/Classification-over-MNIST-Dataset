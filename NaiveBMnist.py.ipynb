{
 "cells": [
  {
   "cell_type": "code",
   "execution_count": 9,
   "metadata": {},
   "outputs": [],
   "source": [
    "from sklearn.metrics import confusion_matrix, classification_report, accuracy_score\n",
    "from sklearn.model_selection import train_test_split\n",
    "import pandas as pd\n",
    "from sklearn import datasets\n",
    "from sklearn.naive_bayes import GaussianNB\n",
    "from sklearn.naive_bayes import MultinomialNB\n",
    "from sklearn.naive_bayes import BernoulliNB\n",
    "# import dataset\n",
    "digits = datasets.load_digits()\n",
    "\n",
    "X = digits.data\n",
    "y = digits.target \n",
    "\n",
    "# Split the data into a training set and a test set\n",
    "X_train, X_test, y_train, y_test = train_test_split(X, y, test_size=0.4, random_state=0)\n",
    "\n",
    "gnb = GaussianNB()\n",
    "mnb = MultinomialNB()\n",
    "bnb = BernoulliNB()\n",
    " \n",
    "\n",
    "\n"
   ]
  },
  {
   "cell_type": "code",
   "execution_count": 7,
   "metadata": {},
   "outputs": [
    {
     "name": "stdout",
     "output_type": "stream",
     "text": [
      "[[60  0  0  0  0  0  0  0  0  0]\n",
      " [ 0 63  1  0  0  0  1  1  6  1]\n",
      " [ 0  7 38  7  0  1  0  0 18  0]\n",
      " [ 0  1  0 58  0  1  0  2  6  2]\n",
      " [ 0  4  0  0 47  1  1 10  0  0]\n",
      " [ 0  0  0  2  1 79  1  4  1  1]\n",
      " [ 0  0  0  0  0  1 75  0  0  0]\n",
      " [ 0  0  0  0  1  0  0 64  0  0]\n",
      " [ 0  6  0  3  0  2  0  2 65  0]\n",
      " [ 0  2  0 14  1  3  0  5  6 43]]\n",
      "Classification Report:\n",
      "             precision    recall  f1-score   support\n",
      "\n",
      "          0       1.00      1.00      1.00        60\n",
      "          1       0.76      0.86      0.81        73\n",
      "          2       0.97      0.54      0.69        71\n",
      "          3       0.69      0.83      0.75        70\n",
      "          4       0.94      0.75      0.83        63\n",
      "          5       0.90      0.89      0.89        89\n",
      "          6       0.96      0.99      0.97        76\n",
      "          7       0.73      0.98      0.84        65\n",
      "          8       0.64      0.83      0.72        78\n",
      "          9       0.91      0.58      0.71        74\n",
      "\n",
      "avg / total       0.85      0.82      0.82       719\n",
      "\n",
      "Accuracy: 0.8233657858136301\n"
     ]
    }
   ],
   "source": [
    "# Gaussian Naive Bayes\n",
    "y_pred_gnb = gnb.fit(X_train, y_train).predict(X_test)\n",
    "cnf_matrix_gnb = confusion_matrix(y_test, y_pred_gnb)\n",
    "print(cnf_matrix_gnb)\n",
    "result1=classification_report(y_test,y_pred_gnb)\n",
    "print(\"Classification Report:\")\n",
    "print(result1)\n",
    "result2=accuracy_score(y_test,y_pred_gnb)\n",
    "print(\"Accuracy:\",result2)\n",
    " \n"
   ]
  },
  {
   "cell_type": "code",
   "execution_count": 6,
   "metadata": {},
   "outputs": [
    {
     "name": "stdout",
     "output_type": "stream",
     "text": [
      "[[59  0  0  0  1  0  0  0  0  0]\n",
      " [ 0 49 13  0  0  1  2  0  2  6]\n",
      " [ 1  3 64  0  0  0  0  0  2  1]\n",
      " [ 0  0  1 57  0  0  0  2  2  8]\n",
      " [ 0  0  0  0 60  0  0  2  1  0]\n",
      " [ 0  0  0  0  1 75  1  1  0 11]\n",
      " [ 0  0  0  0  1  1 74  0  0  0]\n",
      " [ 0  0  0  0  1  0  0 64  0  0]\n",
      " [ 0  6  0  0  0  0  0  1 68  3]\n",
      " [ 0  0  0  0  0  0  0  4  1 69]]\n",
      "Classification Report:\n",
      "             precision    recall  f1-score   support\n",
      "\n",
      "          0       0.98      0.98      0.98        60\n",
      "          1       0.84      0.67      0.75        73\n",
      "          2       0.82      0.90      0.86        71\n",
      "          3       1.00      0.81      0.90        70\n",
      "          4       0.94      0.95      0.94        63\n",
      "          5       0.97      0.84      0.90        89\n",
      "          6       0.96      0.97      0.97        76\n",
      "          7       0.86      0.98      0.92        65\n",
      "          8       0.89      0.87      0.88        78\n",
      "          9       0.70      0.93      0.80        74\n",
      "\n",
      "avg / total       0.90      0.89      0.89       719\n",
      "\n",
      "Accuracy: 0.8887343532684284\n"
     ]
    }
   ],
   "source": [
    "# Multinomial Naive Bayes\n",
    "y_pred_mnb = mnb.fit(X_train, y_train).predict(X_test)\n",
    "cnf_matrix_mnb = confusion_matrix(y_test, y_pred_mnb)\n",
    "print(cnf_matrix_mnb)\n",
    "result3=classification_report(y_test,y_pred_mnb)\n",
    "print(\"Classification Report:\")\n",
    "print(result3)\n",
    "result4=accuracy_score(y_test,y_pred_mnb)\n",
    "print(\"Accuracy:\",result4)\n"
   ]
  },
  {
   "cell_type": "code",
   "execution_count": 5,
   "metadata": {},
   "outputs": [
    {
     "name": "stdout",
     "output_type": "stream",
     "text": [
      "[[59  0  0  0  1  0  0  0  0  0]\n",
      " [ 0 44 14  0  0  0  1  0 10  4]\n",
      " [ 0  4 60  3  0  0  0  1  3  0]\n",
      " [ 0  0  2 59  0  0  0  1  4  4]\n",
      " [ 0  0  0  0 58  0  0  4  1  0]\n",
      " [ 1  2  0  2  1 75  2  0  0  6]\n",
      " [ 0  3  0  0  2  1 70  0  0  0]\n",
      " [ 0  0  0  0  2  0  0 63  0  0]\n",
      " [ 0  7  0  3  0  0  1  1 59  7]\n",
      " [ 0  0  0  4  1  3  0  3  1 62]]\n",
      "Classification Report:\n",
      "             precision    recall  f1-score   support\n",
      "\n",
      "          0       0.98      0.98      0.98        60\n",
      "          1       0.73      0.60      0.66        73\n",
      "          2       0.79      0.85      0.82        71\n",
      "          3       0.83      0.84      0.84        70\n",
      "          4       0.89      0.92      0.91        63\n",
      "          5       0.95      0.84      0.89        89\n",
      "          6       0.95      0.92      0.93        76\n",
      "          7       0.86      0.97      0.91        65\n",
      "          8       0.76      0.76      0.76        78\n",
      "          9       0.75      0.84      0.79        74\n",
      "\n",
      "avg / total       0.85      0.85      0.85       719\n",
      "\n",
      "Accuracy: 0.847009735744089\n"
     ]
    }
   ],
   "source": [
    "# Bernoulli Naive Bayes\n",
    "y_pred_bnb = bnb.fit(X_train, y_train).predict(X_test)\n",
    "cnf_matrix_bnb = confusion_matrix(y_test, y_pred_bnb)\n",
    "print(cnf_matrix_bnb)\n",
    "result5=classification_report(y_test,y_pred_bnb)\n",
    "print(\"Classification Report:\")\n",
    "print(result5)\n",
    "result6=accuracy_score(y_test,y_pred_bnb)\n",
    "print(\"Accuracy:\",result6)\n"
   ]
  },
  {
   "cell_type": "code",
   "execution_count": null,
   "metadata": {},
   "outputs": [],
   "source": []
  }
 ],
 "metadata": {
  "kernelspec": {
   "display_name": "Python 3",
   "language": "python",
   "name": "python3"
  },
  "language_info": {
   "codemirror_mode": {
    "name": "ipython",
    "version": 3
   },
   "file_extension": ".py",
   "mimetype": "text/x-python",
   "name": "python",
   "nbconvert_exporter": "python",
   "pygments_lexer": "ipython3",
   "version": "3.6.5"
  }
 },
 "nbformat": 4,
 "nbformat_minor": 2
}
