{
  "nbformat": 4,
  "nbformat_minor": 0,
  "metadata": {
    "colab": {
      "name": "CNN_VGG16_MNIST.ipynb",
      "provenance": [],
      "toc_visible": true,
      "authorship_tag": "ABX9TyN4HzgSV0XaGqbgmCxleZr6",
      "include_colab_link": true
    },
    "kernelspec": {
      "name": "python3",
      "display_name": "Python 3"
    },
    "accelerator": "GPU"
  },
  "cells": [
    {
      "cell_type": "markdown",
      "metadata": {
        "id": "view-in-github",
        "colab_type": "text"
      },
      "source": [
        "<a href=\"https://colab.research.google.com/github/vanditasharma777/Classification-over-MNIST-Dataset/blob/vanditasharma777-patch-1/CNN_VGG16_MNIST.ipynb\" target=\"_parent\"><img src=\"https://colab.research.google.com/assets/colab-badge.svg\" alt=\"Open In Colab\"/></a>"
      ]
    },
    {
      "cell_type": "code",
      "metadata": {
        "id": "0se2EXzNnxSy",
        "colab_type": "code",
        "colab": {
          "base_uri": "https://localhost:8080/",
          "height": 34
        },
        "outputId": "bf7a90f1-fd1a-4987-c13a-0719f61c2fd4"
      },
      "source": [
        "import keras\n",
        "import tensorflow\n",
        "from keras.datasets import mnist\n",
        "from keras.models import Sequential \n",
        "from keras.layers import Dense, Dropout, Flatten,Softmax,Conv2D, MaxPooling2D\n",
        "from keras import backend as k\n",
        "from keras.applications.vgg16 import VGG16\n",
        "from keras.optimizers import Adam\n",
        "from keras.utils import np_utils\n",
        "import sklearn\n",
        "batch_size = 64\n",
        "num_classes = 10\n",
        "epochs = 12\n"
      ],
      "execution_count": 1,
      "outputs": [
        {
          "output_type": "stream",
          "text": [
            "Using TensorFlow backend.\n"
          ],
          "name": "stderr"
        }
      ]
    },
    {
      "cell_type": "code",
      "metadata": {
        "id": "MyFuDiFRsZJd",
        "colab_type": "code",
        "colab": {
          "base_uri": "https://localhost:8080/",
          "height": 102
        },
        "outputId": "010e33a6-2d54-4196-d1c6-31618ba72253"
      },
      "source": [
        "(x_train, y_train), (x_test, y_test) = mnist.load_data()\n",
        "print('x_train shape:', x_train.shape)\n",
        "print(x_train.shape[0], 'train samples')\n",
        "print(x_test.shape[0], 'test samples')"
      ],
      "execution_count": 2,
      "outputs": [
        {
          "output_type": "stream",
          "text": [
            "Downloading data from https://s3.amazonaws.com/img-datasets/mnist.npz\n",
            "11493376/11490434 [==============================] - 2s 0us/step\n",
            "x_train shape: (60000, 28, 28)\n",
            "60000 train samples\n",
            "10000 test samples\n"
          ],
          "name": "stdout"
        }
      ]
    },
    {
      "cell_type": "code",
      "metadata": {
        "id": "cgpXAY8rs1a8",
        "colab_type": "code",
        "colab": {
          "base_uri": "https://localhost:8080/",
          "height": 68
        },
        "outputId": "43bdf6c9-2c56-4aa3-cf8e-bad458225007"
      },
      "source": [
        "img_rows,img_cols = 28,28\n",
        "#print the new label\n",
        "if k.image_data_format() == 'channels_first':\n",
        "    x_train = x_train.reshape(x_train.shape[0], 1, img_rows, img_cols)\n",
        "    x_test = x_test.reshape(x_test.shape[0], 1, img_rows, img_cols)\n",
        "    input_shape = (1, img_rows, img_cols)\n",
        "else:\n",
        "    x_train = x_train.reshape(x_train.shape[0], img_rows, img_cols, 1)\n",
        "    x_test = x_test.reshape(x_test.shape[0], img_rows, img_cols, 1)\n",
        "    input_shape = (img_rows, img_cols, 1)\n",
        "\n",
        "x_train = x_train.astype('float32')\n",
        "x_test = x_test.astype('float32')\n",
        "x_train /= 255\n",
        "x_test /= 255\n",
        "print('x_train shape:', x_train.shape)\n",
        "print(x_train.shape[0], 'train samples')\n",
        "print(x_test.shape[0], 'test samples')\n"
      ],
      "execution_count": 3,
      "outputs": [
        {
          "output_type": "stream",
          "text": [
            "x_train shape: (60000, 28, 28, 1)\n",
            "60000 train samples\n",
            "10000 test samples\n"
          ],
          "name": "stdout"
        }
      ]
    },
    {
      "cell_type": "code",
      "metadata": {
        "id": "0jbq56bJts1q",
        "colab_type": "code",
        "colab": {
          "base_uri": "https://localhost:8080/",
          "height": 34
        },
        "outputId": "fc8ba89e-e2cd-488c-d283-62db0f4ec986"
      },
      "source": [
        "# convert class vectors to binary class matrices\n",
        "y_train = keras.utils.to_categorical(y_train, num_classes)\n",
        "y_test = keras.utils.to_categorical(y_test, num_classes)\n",
        "y_test.shape,y_train.shape"
      ],
      "execution_count": 4,
      "outputs": [
        {
          "output_type": "execute_result",
          "data": {
            "text/plain": [
              "((10000, 10), (60000, 10))"
            ]
          },
          "metadata": {
            "tags": []
          },
          "execution_count": 4
        }
      ]
    },
    {
      "cell_type": "code",
      "metadata": {
        "id": "uMWLZjMJt-fx",
        "colab_type": "code",
        "colab": {
          "base_uri": "https://localhost:8080/",
          "height": 476
        },
        "outputId": "e53b4dba-5232-4b06-ed7a-4a67b679f16e"
      },
      "source": [
        "# Build the CNN model\n",
        "model = keras.models.Sequential()\n",
        "model = Sequential()\n",
        "model.add(Conv2D(32, kernel_size=(3, 3),activation='relu',input_shape=input_shape))\n",
        "model.add(Conv2D(64, (3, 3), activation='relu'))\n",
        "model.add(MaxPooling2D(pool_size=(2, 2)))\n",
        "model.add(Dropout(0.25))\n",
        "model.add(Flatten())\n",
        "model.add(Dense(128, activation='relu'))\n",
        "model.add(Dropout(0.5))\n",
        "model.add(Dense(num_classes, activation='softmax'))\n",
        "model.compile(loss=keras.losses.categorical_crossentropy,optimizer=keras.optimizers.Adadelta(),metrics=['accuracy'])\n",
        "hist=model.fit(x_train, y_train, batch_size=batch_size,epochs=epochs,verbose=1,validation_data=(x_test, y_test)).history                                                                                                                                                                                                                                                                                                                                                                                                                                                                                                                                                                                                                                                                                                                                                                                                                                                                                                                                                                                                                                                                                                                                                                                                                                                                                                                                                                                                                                                                                                                                                                                                                                                                                                                                                                                                                                                                                                                                                                                                     \n",
        "score = model.evaluate(x_test, y_test, verbose=0)                                              \n",
        "print('Test loss:', score[0])\n",
        "print('Test accuracy:', score[1])                                                                                                                                                                                                                                                                                                                                                                                                                                                                                                                                                                                                                                                                                                                                                                                                                                                                                                                                                                                                                                                                                                                                                                                                                                                                                                                                                                                                                                                                                                                                                                                                                                                                                                                                                                                                                                                                                                                                                                                                                                                                                                                  "
      ],
      "execution_count": 5,
      "outputs": [
        {
          "output_type": "stream",
          "text": [
            "Train on 60000 samples, validate on 10000 samples\n",
            "Epoch 1/12\n",
            "60000/60000 [==============================] - 18s 301us/step - loss: 0.2205 - accuracy: 0.9320 - val_loss: 0.0540 - val_accuracy: 0.9833\n",
            "Epoch 2/12\n",
            "60000/60000 [==============================] - 12s 199us/step - loss: 0.0822 - accuracy: 0.9761 - val_loss: 0.0363 - val_accuracy: 0.9880\n",
            "Epoch 3/12\n",
            "60000/60000 [==============================] - 12s 199us/step - loss: 0.0614 - accuracy: 0.9820 - val_loss: 0.0306 - val_accuracy: 0.9902\n",
            "Epoch 4/12\n",
            "60000/60000 [==============================] - 12s 197us/step - loss: 0.0516 - accuracy: 0.9847 - val_loss: 0.0278 - val_accuracy: 0.9914\n",
            "Epoch 5/12\n",
            "60000/60000 [==============================] - 12s 200us/step - loss: 0.0457 - accuracy: 0.9865 - val_loss: 0.0449 - val_accuracy: 0.9860\n",
            "Epoch 6/12\n",
            "60000/60000 [==============================] - 12s 199us/step - loss: 0.0400 - accuracy: 0.9876 - val_loss: 0.0302 - val_accuracy: 0.9900\n",
            "Epoch 7/12\n",
            "60000/60000 [==============================] - 12s 200us/step - loss: 0.0388 - accuracy: 0.9883 - val_loss: 0.0302 - val_accuracy: 0.9899\n",
            "Epoch 8/12\n",
            "60000/60000 [==============================] - 12s 199us/step - loss: 0.0356 - accuracy: 0.9894 - val_loss: 0.0283 - val_accuracy: 0.9914\n",
            "Epoch 9/12\n",
            "60000/60000 [==============================] - 12s 199us/step - loss: 0.0329 - accuracy: 0.9901 - val_loss: 0.0301 - val_accuracy: 0.9906\n",
            "Epoch 10/12\n",
            "60000/60000 [==============================] - 12s 199us/step - loss: 0.0313 - accuracy: 0.9906 - val_loss: 0.0272 - val_accuracy: 0.9916\n",
            "Epoch 11/12\n",
            "60000/60000 [==============================] - 12s 198us/step - loss: 0.0324 - accuracy: 0.9905 - val_loss: 0.0274 - val_accuracy: 0.9913\n",
            "Epoch 12/12\n",
            "60000/60000 [==============================] - 12s 199us/step - loss: 0.0306 - accuracy: 0.9909 - val_loss: 0.0330 - val_accuracy: 0.9904\n",
            "Test loss: 0.03298650568103112\n",
            "Test accuracy: 0.9904000163078308\n"
          ],
          "name": "stdout"
        }
      ]
    },
    {
      "cell_type": "code",
      "metadata": {
        "id": "2sFF94S1bH5G",
        "colab_type": "code",
        "colab": {
          "base_uri": "https://localhost:8080/",
          "height": 544
        },
        "outputId": "d9efa84b-661b-4997-eb64-2bec4e5a19d4"
      },
      "source": [
        "from sklearn.metrics import classification_report,confusion_matrix,accuracy_score\n",
        "test_predictions = model.predict_classes(x_test, batch_size=128, verbose=0) \n",
        "import numpy as np\n",
        "rounded_labels=np.argmax(y_test, axis=1)\n",
        "rounded_labels[1]\n",
        "print(\"confusion matrix\")\n",
        "cm = confusion_matrix(rounded_labels, test_predictions)\n",
        "print(cm)\n",
        "print(\"classification report:\")\n",
        "print(classification_report(rounded_labels, test_predictions, target_names= None))\n",
        "print(\"Accuracy score:\")\n",
        "print(accuracy_score(rounded_labels,test_predictions))\n"
      ],
      "execution_count": 6,
      "outputs": [
        {
          "output_type": "stream",
          "text": [
            "confusion matrix\n",
            "[[ 978    0    0    0    0    0    0    0    1    1]\n",
            " [   0 1134    0    1    0    0    0    0    0    0]\n",
            " [   1    1 1024    1    0    0    0    5    0    0]\n",
            " [   0    0    0 1007    0    2    0    0    1    0]\n",
            " [   1    0    0    0  958    0    3    0    2   18]\n",
            " [   2    0    0    7    0  881    1    1    0    0]\n",
            " [   8    3    0    1    1    4  940    0    1    0]\n",
            " [   0    2    3    1    0    0    0 1019    1    2]\n",
            " [   4    0    1    2    0    0    0    1  964    2]\n",
            " [   1    1    0    2    2    1    0    1    2  999]]\n",
            "classification report:\n",
            "              precision    recall  f1-score   support\n",
            "\n",
            "           0       0.98      1.00      0.99       980\n",
            "           1       0.99      1.00      1.00      1135\n",
            "           2       1.00      0.99      0.99      1032\n",
            "           3       0.99      1.00      0.99      1010\n",
            "           4       1.00      0.98      0.99       982\n",
            "           5       0.99      0.99      0.99       892\n",
            "           6       1.00      0.98      0.99       958\n",
            "           7       0.99      0.99      0.99      1028\n",
            "           8       0.99      0.99      0.99       974\n",
            "           9       0.98      0.99      0.98      1009\n",
            "\n",
            "    accuracy                           0.99     10000\n",
            "   macro avg       0.99      0.99      0.99     10000\n",
            "weighted avg       0.99      0.99      0.99     10000\n",
            "\n",
            "Accuracy score:\n",
            "0.9904\n"
          ],
          "name": "stdout"
        }
      ]
    },
    {
      "cell_type": "code",
      "metadata": {
        "id": "IUZLNdMLb1ir",
        "colab_type": "code",
        "colab": {
          "base_uri": "https://localhost:8080/",
          "height": 566
        },
        "outputId": "c29d4064-a438-4adc-aef1-6ed081bb3186"
      },
      "source": [
        "\n",
        "import matplotlib.pylab as plt\n",
        "plt.figure()\n",
        "plt.ylabel(\"Loss (training and validation)\")\n",
        "plt.xlabel(\"Training Steps\")\n",
        "plt.ylim([0,2])\n",
        "plt.plot(hist[\"loss\"])\n",
        "plt.plot(hist[\"val_loss\"])\n",
        "\n",
        "plt.figure()\n",
        "plt.ylabel(\"Accuracy (training and validation)\")\n",
        "plt.xlabel(\"Training Steps\")\n",
        "plt.ylim([0,1])\n",
        "plt.plot(hist[\"accuracy\"])\n",
        "plt.plot(hist[\"val_accuracy\"])"
      ],
      "execution_count": 7,
      "outputs": [
        {
          "output_type": "execute_result",
          "data": {
            "text/plain": [
              "[<matplotlib.lines.Line2D at 0x7f6ece1b6240>]"
            ]
          },
          "metadata": {
            "tags": []
          },
          "execution_count": 7
        },
        {
          "output_type": "display_data",
          "data": {
            "image/png": "[encoded data removed]",
            "text/plain": [
              "<Figure size 432x288 with 1 Axes>"
            ]
          },
          "metadata": {
            "tags": [],
            "needs_background": "light"
          }
        },
        {
          "output_type": "display_data",
          "data": {
            "image/png": "[encoded data removed]",
            "text/plain": [
              "<Figure size 432x288 with 1 Axes>"
            ]
          },
          "metadata": {
            "tags": [],
            "needs_background": "light"
          }
        }
      ]
    },
    {
      "cell_type": "code",
      "metadata": {
        "id": "KXO8DfgzNWdW",
        "colab_type": "code",
        "colab": {
          "base_uri": "https://localhost:8080/",
          "height": 68
        },
        "outputId": "fce3484f-bfbb-43bc-a06f-32a52780563b"
      },
      "source": [
        "pip install h5py\n"
      ],
      "execution_count": 13,
      "outputs": [
        {
          "output_type": "stream",
          "text": [
            "Requirement already satisfied: h5py in /usr/local/lib/python3.6/dist-packages (2.10.0)\n",
            "Requirement already satisfied: six in /usr/local/lib/python3.6/dist-packages (from h5py) (1.12.0)\n",
            "Requirement already satisfied: numpy>=1.7 in /usr/local/lib/python3.6/dist-packages (from h5py) (1.18.5)\n"
          ],
          "name": "stdout"
        }
      ]
    },
    {
      "cell_type": "code",
      "metadata": {
        "id": "UgHgQnsmNkz2",
        "colab_type": "code",
        "colab": {
          "base_uri": "https://localhost:8080/",
          "height": 51
        },
        "outputId": "b6ee959f-369a-4d4a-f4c2-a82d90698076"
      },
      "source": [
        "from keras.models import model_from_json\n",
        "import numpy\n",
        "import os\n",
        "# fix random seed for reproducibility\n",
        "numpy.random.seed(7)\n",
        "# serialize model to JSON\n",
        "model_json = model.to_json()\n",
        "with open(\"model.json\", \"w\") as json_file:\n",
        "    json_file.write(model_json)\n",
        "# serialize weights to HDF5\n",
        "model.save_weights(\"model.h5\")\n",
        "print(\"Saved model to disk\")\n",
        " \n",
        "# later...\n",
        " \n",
        "# load json and create model\n",
        "json_file = open('model.json', 'r')\n",
        "loaded_model_json = json_file.read()\n",
        "json_file.close()\n",
        "loaded_model = model_from_json(loaded_model_json)\n",
        "# load weights into new model\n",
        "loaded_model.load_weights(\"model.h5\")\n",
        "print(\"Loaded model from disk\")\n",
        " "
      ],
      "execution_count": 14,
      "outputs": [
        {
          "output_type": "stream",
          "text": [
            "Saved model to disk\n",
            "Loaded model from disk\n"
          ],
          "name": "stdout"
        }
      ]
    },
    {
      "cell_type": "code",
      "metadata": {
        "id": "4v5TT1vPOKxy",
        "colab_type": "code",
        "colab": {
          "base_uri": "https://localhost:8080/",
          "height": 476
        },
        "outputId": "4d707304-77cb-4064-fbe8-b4928c382a98"
      },
      "source": [
        "loaded_model.compile(loss=keras.losses.categorical_crossentropy,optimizer=keras.optimizers.Adadelta(),metrics=['accuracy'])\n",
        "hist=loaded_model.fit(x_train, y_train, batch_size=batch_size,epochs=epochs,verbose=1,validation_data=(x_test, y_test)).history                                                                                                                                                                                                                                                                                                                                                                                                                                                                                                                                                                                                                                                                                                                                                                                                                                                                                                                                                                                                                                                                                                                                                                                                                                                                                                                                                                                                                                                                                                                                                                                                                                                                                                                                                                                                                                                                                                                                                                                                     \n",
        "score = loaded_model.evaluate(x_test, y_test, verbose=0)                                              \n",
        "print('Test loss:', score[0])\n",
        "print('Test accuracy:', score[1])  "
      ],
      "execution_count": 15,
      "outputs": [
        {
          "output_type": "stream",
          "text": [
            "Train on 60000 samples, validate on 10000 samples\n",
            "Epoch 1/12\n",
            "60000/60000 [==============================] - 12s 203us/step - loss: 0.0299 - accuracy: 0.9908 - val_loss: 0.0280 - val_accuracy: 0.9919\n",
            "Epoch 2/12\n",
            "60000/60000 [==============================] - 12s 199us/step - loss: 0.0299 - accuracy: 0.9909 - val_loss: 0.0291 - val_accuracy: 0.9916\n",
            "Epoch 3/12\n",
            "60000/60000 [==============================] - 12s 200us/step - loss: 0.0281 - accuracy: 0.9914 - val_loss: 0.0257 - val_accuracy: 0.9918\n",
            "Epoch 4/12\n",
            "60000/60000 [==============================] - 12s 197us/step - loss: 0.0261 - accuracy: 0.9921 - val_loss: 0.0279 - val_accuracy: 0.9916\n",
            "Epoch 5/12\n",
            "60000/60000 [==============================] - 12s 197us/step - loss: 0.0259 - accuracy: 0.9926 - val_loss: 0.0319 - val_accuracy: 0.9916\n",
            "Epoch 6/12\n",
            "60000/60000 [==============================] - 12s 197us/step - loss: 0.0260 - accuracy: 0.9921 - val_loss: 0.0318 - val_accuracy: 0.9906\n",
            "Epoch 7/12\n",
            "60000/60000 [==============================] - 12s 197us/step - loss: 0.0251 - accuracy: 0.9925 - val_loss: 0.0289 - val_accuracy: 0.9927\n",
            "Epoch 8/12\n",
            "60000/60000 [==============================] - 12s 196us/step - loss: 0.0261 - accuracy: 0.9919 - val_loss: 0.0310 - val_accuracy: 0.9914\n",
            "Epoch 9/12\n",
            "60000/60000 [==============================] - 12s 197us/step - loss: 0.0231 - accuracy: 0.9929 - val_loss: 0.0270 - val_accuracy: 0.9930\n",
            "Epoch 10/12\n",
            "60000/60000 [==============================] - 12s 197us/step - loss: 0.0229 - accuracy: 0.9930 - val_loss: 0.0360 - val_accuracy: 0.9907\n",
            "Epoch 11/12\n",
            "60000/60000 [==============================] - 12s 198us/step - loss: 0.0217 - accuracy: 0.9933 - val_loss: 0.0268 - val_accuracy: 0.9927\n",
            "Epoch 12/12\n",
            "60000/60000 [==============================] - 12s 197us/step - loss: 0.0236 - accuracy: 0.9931 - val_loss: 0.0257 - val_accuracy: 0.9932\n",
            "Test loss: 0.025724397773598365\n",
            "Test accuracy: 0.9932000041007996\n"
          ],
          "name": "stdout"
        }
      ]
    },
    {
      "cell_type": "code",
      "metadata": {
        "id": "FBbF1zg2OxDW",
        "colab_type": "code",
        "colab": {
          "base_uri": "https://localhost:8080/",
          "height": 544
        },
        "outputId": "cc402716-0a4c-4b10-c219-ec92f195fe1c"
      },
      "source": [
        "from sklearn.metrics import classification_report,confusion_matrix,accuracy_score\n",
        "test_predictions = model.predict_classes(x_test, batch_size=128, verbose=0) \n",
        "import numpy as np\n",
        "rounded_labels=np.argmax(y_test, axis=1)\n",
        "rounded_labels[1]\n",
        "print(\"confusion matrix\")\n",
        "cm = confusion_matrix(rounded_labels, test_predictions)\n",
        "print(cm)\n",
        "print(\"classification report:\")\n",
        "print(classification_report(rounded_labels, test_predictions, target_names= None))\n",
        "print(\"Accuracy score:\")\n",
        "print(accuracy_score(rounded_labels,test_predictions))\n"
      ],
      "execution_count": 16,
      "outputs": [
        {
          "output_type": "stream",
          "text": [
            "confusion matrix\n",
            "[[ 978    0    0    0    0    0    0    0    1    1]\n",
            " [   0 1134    0    1    0    0    0    0    0    0]\n",
            " [   1    1 1024    1    0    0    0    5    0    0]\n",
            " [   0    0    0 1007    0    2    0    0    1    0]\n",
            " [   1    0    0    0  958    0    3    0    2   18]\n",
            " [   2    0    0    7    0  881    1    1    0    0]\n",
            " [   8    3    0    1    1    4  940    0    1    0]\n",
            " [   0    2    3    1    0    0    0 1019    1    2]\n",
            " [   4    0    1    2    0    0    0    1  964    2]\n",
            " [   1    1    0    2    2    1    0    1    2  999]]\n",
            "classification report:\n",
            "              precision    recall  f1-score   support\n",
            "\n",
            "           0       0.98      1.00      0.99       980\n",
            "           1       0.99      1.00      1.00      1135\n",
            "           2       1.00      0.99      0.99      1032\n",
            "           3       0.99      1.00      0.99      1010\n",
            "           4       1.00      0.98      0.99       982\n",
            "           5       0.99      0.99      0.99       892\n",
            "           6       1.00      0.98      0.99       958\n",
            "           7       0.99      0.99      0.99      1028\n",
            "           8       0.99      0.99      0.99       974\n",
            "           9       0.98      0.99      0.98      1009\n",
            "\n",
            "    accuracy                           0.99     10000\n",
            "   macro avg       0.99      0.99      0.99     10000\n",
            "weighted avg       0.99      0.99      0.99     10000\n",
            "\n",
            "Accuracy score:\n",
            "0.9904\n"
          ],
          "name": "stdout"
        }
      ]
    },
    {
      "cell_type": "code",
      "metadata": {
        "id": "1UL0CdriO61f",
        "colab_type": "code",
        "colab": {
          "base_uri": "https://localhost:8080/",
          "height": 566
        },
        "outputId": "7c189957-dbdc-4aec-e65f-5a882f460738"
      },
      "source": [
        "import matplotlib.pylab as plt\n",
        "plt.figure()\n",
        "plt.ylabel(\"Loss (training and validation)\")\n",
        "plt.xlabel(\"Training Steps\")\n",
        "plt.ylim([0,2])\n",
        "plt.plot(hist[\"loss\"])\n",
        "plt.plot(hist[\"val_loss\"])\n",
        "\n",
        "plt.figure()\n",
        "plt.ylabel(\"Accuracy (training and validation)\")\n",
        "plt.xlabel(\"Training Steps\")\n",
        "plt.ylim([0,1])\n",
        "plt.plot(hist[\"accuracy\"])\n",
        "plt.plot(hist[\"val_accuracy\"])"
      ],
      "execution_count": 17,
      "outputs": [
        {
          "output_type": "execute_result",
          "data": {
            "text/plain": [
              "[<matplotlib.lines.Line2D at 0x7f6ecd448a58>]"
            ]
          },
          "metadata": {
            "tags": []
          },
          "execution_count": 17
        },
        {
          "output_type": "display_data",
          "data": {
            "image/png": "[encoded data removed]",
            "text/plain": [
              "<Figure size 432x288 with 1 Axes>"
            ]
          },
          "metadata": {
            "tags": [],
            "needs_background": "light"
          }
        },
        {
          "output_type": "display_data",
          "data": {
            "image/png": "[encoded data removed]",
            "text/plain": [
              "<Figure size 432x288 with 1 Axes>"
            ]
          },
          "metadata": {
            "tags": [],
            "needs_background": "light"
          }
        }
      ]
    },
    {
      "cell_type": "code",
      "metadata": {
        "id": "YVEe67iIa9dR",
        "colab_type": "code",
        "colab": {
          "base_uri": "https://localhost:8080/",
          "height": 136
        },
        "outputId": "87b876fc-9e55-4ed0-f677-9450d5efcb40"
      },
      "source": [
        "! git clone https://github.com/mtobeiyf/keras-flask-deploy-webapp.git"
      ],
      "execution_count": 3,
      "outputs": [
        {
          "output_type": "stream",
          "text": [
            "Cloning into 'keras-flask-deploy-webapp'...\n",
            "remote: Enumerating objects: 3, done.\u001b[K\n",
            "remote: Counting objects:  33% (1/3)\u001b[K\rremote: Counting objects:  66% (2/3)\u001b[K\rremote: Counting objects: 100% (3/3)\u001b[K\rremote: Counting objects: 100% (3/3), done.\u001b[K\n",
            "remote: Compressing objects:  33% (1/3)\u001b[K\rremote: Compressing objects:  66% (2/3)\u001b[K\rremote: Compressing objects: 100% (3/3)\u001b[K\rremote: Compressing objects: 100% (3/3), done.\u001b[K\n",
            "Receiving objects:   0% (1/120)   \rReceiving objects:   1% (2/120)   \rReceiving objects:   2% (3/120)   \rReceiving objects:   3% (4/120)   \rReceiving objects:   4% (5/120)   \rReceiving objects:   5% (6/120)   \rReceiving objects:   6% (8/120)   \rReceiving objects:   7% (9/120)   \rReceiving objects:   8% (10/120)   \rReceiving objects:   9% (11/120)   \rReceiving objects:  10% (12/120)   \rReceiving objects:  11% (14/120)   \rReceiving objects:  12% (15/120)   \rReceiving objects:  13% (16/120)   \rReceiving objects:  14% (17/120)   \rReceiving objects:  15% (18/120)   \rReceiving objects:  16% (20/120)   \rReceiving objects:  17% (21/120)   \rReceiving objects:  18% (22/120)   \rReceiving objects:  19% (23/120)   \rReceiving objects:  20% (24/120)   \rReceiving objects:  21% (26/120)   \rReceiving objects:  22% (27/120)   \rReceiving objects:  23% (28/120)   \rReceiving objects:  24% (29/120)   \rReceiving objects:  25% (30/120)   \rReceiving objects:  26% (32/120)   \rReceiving objects:  27% (33/120)   \rReceiving objects:  28% (34/120)   \rReceiving objects:  29% (35/120)   \rReceiving objects:  30% (36/120)   \rReceiving objects:  31% (38/120)   \rReceiving objects:  32% (39/120)   \rReceiving objects:  33% (40/120)   \rReceiving objects:  34% (41/120)   \rReceiving objects:  35% (42/120)   \rReceiving objects:  36% (44/120)   \rReceiving objects:  37% (45/120)   \rReceiving objects:  38% (46/120)   \rremote: Total 120 (delta 0), reused 1 (delta 0), pack-reused 117\u001b[K\n",
            "Receiving objects:  39% (47/120)   \rReceiving objects:  40% (48/120)   \rReceiving objects:  41% (50/120)   \rReceiving objects:  42% (51/120)   \rReceiving objects:  43% (52/120)   \rReceiving objects:  44% (53/120)   \rReceiving objects:  45% (54/120)   \rReceiving objects:  46% (56/120)   \rReceiving objects:  47% (57/120)   \rReceiving objects:  48% (58/120)   \rReceiving objects:  49% (59/120)   \rReceiving objects:  50% (60/120)   \rReceiving objects:  51% (62/120)   \rReceiving objects:  52% (63/120)   \rReceiving objects:  53% (64/120)   \rReceiving objects:  54% (65/120)   \rReceiving objects:  55% (66/120)   \rReceiving objects:  56% (68/120)   \rReceiving objects:  57% (69/120)   \rReceiving objects:  58% (70/120)   \rReceiving objects:  59% (71/120)   \rReceiving objects:  60% (72/120)   \rReceiving objects:  61% (74/120)   \rReceiving objects:  62% (75/120)   \rReceiving objects:  63% (76/120)   \rReceiving objects:  64% (77/120)   \rReceiving objects:  65% (78/120)   \rReceiving objects:  66% (80/120)   \rReceiving objects:  67% (81/120)   \rReceiving objects:  68% (82/120)   \rReceiving objects:  69% (83/120)   \rReceiving objects:  70% (84/120)   \rReceiving objects:  71% (86/120)   \rReceiving objects:  72% (87/120)   \rReceiving objects:  73% (88/120)   \rReceiving objects:  74% (89/120)   \rReceiving objects:  75% (90/120)   \rReceiving objects:  76% (92/120)   \rReceiving objects:  77% (93/120)   \rReceiving objects:  78% (94/120)   \rReceiving objects:  79% (95/120)   \rReceiving objects:  80% (96/120)   \rReceiving objects:  81% (98/120)   \rReceiving objects:  82% (99/120)   \rReceiving objects:  83% (100/120)   \rReceiving objects:  84% (101/120)   \rReceiving objects:  85% (102/120)   \rReceiving objects:  86% (104/120)   \rReceiving objects:  87% (105/120)   \rReceiving objects:  88% (106/120)   \rReceiving objects:  89% (107/120)   \rReceiving objects:  90% (108/120)   \rReceiving objects:  91% (110/120)   \rReceiving objects:  92% (111/120)   \rReceiving objects:  93% (112/120)   \rReceiving objects:  94% (113/120)   \rReceiving objects:  95% (114/120)   \rReceiving objects:  96% (116/120)   \rReceiving objects:  97% (117/120)   \rReceiving objects:  98% (118/120)   \rReceiving objects:  99% (119/120)   \rReceiving objects: 100% (120/120)   \rReceiving objects: 100% (120/120), 42.42 KiB | 4.24 MiB/s, done.\n",
            "Resolving deltas:   0% (0/43)   \rResolving deltas:   4% (2/43)   \rResolving deltas:   6% (3/43)   \rResolving deltas:  11% (5/43)   \rResolving deltas:  13% (6/43)   \rResolving deltas:  23% (10/43)   \rResolving deltas:  25% (11/43)   \rResolving deltas:  34% (15/43)   \rResolving deltas:  58% (25/43)   \rResolving deltas:  65% (28/43)   \rResolving deltas:  90% (39/43)   \rResolving deltas:  93% (40/43)   \rResolving deltas: 100% (43/43)   \rResolving deltas: 100% (43/43), done.\n"
          ],
          "name": "stdout"
        }
      ]
    },
    {
      "cell_type": "markdown",
      "metadata": {
        "id": "KmHdqtZQahMG",
        "colab_type": "text"
      },
      "source": [
        "VGG16 for MNIST DATASET"
      ]
    },
    {
      "cell_type": "code",
      "metadata": {
        "id": "JRPZI80geSuf",
        "colab_type": "code",
        "colab": {
          "base_uri": "https://localhost:8080/",
          "height": 68
        },
        "outputId": "254f55f7-a03d-42c4-8203-bfe20d5f22d3"
      },
      "source": [
        "(x_train, y_train), (x_test, y_test) = mnist.load_data()\n",
        "print('x_train shape:', x_train.shape)\n",
        "print(x_train.shape[0], 'train samples')\n",
        "print(x_test.shape[0], 'test samples')"
      ],
      "execution_count": null,
      "outputs": [
        {
          "output_type": "stream",
          "text": [
            "x_train shape: (60000, 28, 28)\n",
            "60000 train samples\n",
            "10000 test samples\n"
          ],
          "name": "stdout"
        }
      ]
    },
    {
      "cell_type": "code",
      "metadata": {
        "id": "zF8Ozz3BEV7C",
        "colab_type": "code",
        "colab": {
          "base_uri": "https://localhost:8080/",
          "height": 34
        },
        "outputId": "935760f4-2cf5-416d-c8a8-49bf204d393f"
      },
      "source": [
        "from keras.utils import np_utils\n",
        "# one-hot encode the labels\n",
        "y_train = np_utils.to_categorical(y_train, 10)\n",
        "y_test = np_utils.to_categorical(y_test, 10)\n",
        "y_train.shape,y_test.shape\n"
      ],
      "execution_count": null,
      "outputs": [
        {
          "output_type": "execute_result",
          "data": {
            "text/plain": [
              "((60000, 10), (10000, 10))"
            ]
          },
          "metadata": {
            "tags": []
          },
          "execution_count": 18
        }
      ]
    },
    {
      "cell_type": "code",
      "metadata": {
        "id": "X3DgmlAaemJL",
        "colab_type": "code",
        "colab": {
          "base_uri": "https://localhost:8080/",
          "height": 34
        },
        "outputId": "8b7b6f9c-849b-4b7a-df37-9fec99098af1"
      },
      "source": [
        "## only for mnist becuase mnist is grayscale so , we are converting them rgb (three dimensional)\n",
        "import cv2\n",
        "dim = (48, 48)\n",
        "\n",
        "#convert 28x28 grayscale to 48x48 rgb channels\n",
        "def to_rgb(img):\n",
        "    img = cv2.resize(img, dim, interpolation = cv2.INTER_AREA) \n",
        "    img_rgb = np.asarray(np.dstack((img, img, img)), dtype=np.uint8)\n",
        "    return img_rgb\n",
        "\n",
        "rgb_list = []\n",
        "#convert X_train data to 48x48 rgb values\n",
        "for i in range(len(x_train)):\n",
        "    rgb = to_rgb(x_train[i])\n",
        "    rgb_list.append(rgb)\n",
        "    #print(rgb.shape)\n",
        "    \n",
        "x_train_rgb = np.stack([rgb_list],axis=4)\n",
        "x_train_rgb_3d = np.squeeze(x_train_rgb, axis=4)\n",
        "print(x_train_rgb_3d.shape)"
      ],
      "execution_count": null,
      "outputs": [
        {
          "output_type": "stream",
          "text": [
            "(60000, 48, 48, 3)\n"
          ],
          "name": "stdout"
        }
      ]
    },
    {
      "cell_type": "code",
      "metadata": {
        "id": "50aBDla9EdM3",
        "colab_type": "code",
        "colab": {
          "base_uri": "https://localhost:8080/",
          "height": 34
        },
        "outputId": "3d359665-b4a8-414a-8383-741d1b967e29"
      },
      "source": [
        "## only for mnist becuase mnist is grayscale so , we are converting them rgb (three dimensional)\n",
        "\n",
        "import cv2\n",
        "dim = (48, 48)\n",
        "\n",
        "#convert 28x28 grayscale to 48x48 rgb channels\n",
        "def to_rgb(img):\n",
        "    img = cv2.resize(img, dim, interpolation = cv2.INTER_AREA) \n",
        "    img_rgb = np.asarray(np.dstack((img, img, img)), dtype=np.uint8)\n",
        "    return img_rgb\n",
        "\n",
        "rgb_list = []\n",
        "#convert X_train data to 48x48 rgb values\n",
        "for i in range(len(x_test)):\n",
        "    rgb = to_rgb(x_test[i])\n",
        "    rgb_list.append(rgb)\n",
        "    #print(rgb.shape)\n",
        "    \n",
        "x_test_rgb = np.stack([rgb_list],axis=4)\n",
        "x_test_rgb_3d = np.squeeze(x_test_rgb, axis=4)\n",
        "print(x_test_rgb_3d.shape)"
      ],
      "execution_count": null,
      "outputs": [
        {
          "output_type": "stream",
          "text": [
            "(10000, 48, 48, 3)\n"
          ],
          "name": "stdout"
        }
      ]
    },
    {
      "cell_type": "code",
      "metadata": {
        "id": "kh468VGbe9jP",
        "colab_type": "code",
        "colab": {
          "base_uri": "https://localhost:8080/",
          "height": 833
        },
        "outputId": "56711200-044b-4308-f3c5-6e709e789e4a"
      },
      "source": [
        "vgg16_model = VGG16(weights = 'imagenet',include_top=False,input_shape=(48,48,3))\n",
        "vgg16_model.summary()"
      ],
      "execution_count": null,
      "outputs": [
        {
          "output_type": "stream",
          "text": [
            "Downloading data from https://github.com/fchollet/deep-learning-models/releases/download/v0.1/vgg16_weights_tf_dim_ordering_tf_kernels_notop.h5\n",
            "58892288/58889256 [==============================] - 3s 0us/step\n",
            "Model: \"vgg16\"\n",
            "_________________________________________________________________\n",
            "Layer (type)                 Output Shape              Param #   \n",
            "=================================================================\n",
            "input_1 (InputLayer)         (None, 48, 48, 3)         0         \n",
            "_________________________________________________________________\n",
            "block1_conv1 (Conv2D)        (None, 48, 48, 64)        1792      \n",
            "_________________________________________________________________\n",
            "block1_conv2 (Conv2D)        (None, 48, 48, 64)        36928     \n",
            "_________________________________________________________________\n",
            "block1_pool (MaxPooling2D)   (None, 24, 24, 64)        0         \n",
            "_________________________________________________________________\n",
            "block2_conv1 (Conv2D)        (None, 24, 24, 128)       73856     \n",
            "_________________________________________________________________\n",
            "block2_conv2 (Conv2D)        (None, 24, 24, 128)       147584    \n",
            "_________________________________________________________________\n",
            "block2_pool (MaxPooling2D)   (None, 12, 12, 128)       0         \n",
            "_________________________________________________________________\n",
            "block3_conv1 (Conv2D)        (None, 12, 12, 256)       295168    \n",
            "_________________________________________________________________\n",
            "block3_conv2 (Conv2D)        (None, 12, 12, 256)       590080    \n",
            "_________________________________________________________________\n",
            "block3_conv3 (Conv2D)        (None, 12, 12, 256)       590080    \n",
            "_________________________________________________________________\n",
            "block3_pool (MaxPooling2D)   (None, 6, 6, 256)         0         \n",
            "_________________________________________________________________\n",
            "block4_conv1 (Conv2D)        (None, 6, 6, 512)         1180160   \n",
            "_________________________________________________________________\n",
            "block4_conv2 (Conv2D)        (None, 6, 6, 512)         2359808   \n",
            "_________________________________________________________________\n",
            "block4_conv3 (Conv2D)        (None, 6, 6, 512)         2359808   \n",
            "_________________________________________________________________\n",
            "block4_pool (MaxPooling2D)   (None, 3, 3, 512)         0         \n",
            "_________________________________________________________________\n",
            "block5_conv1 (Conv2D)        (None, 3, 3, 512)         2359808   \n",
            "_________________________________________________________________\n",
            "block5_conv2 (Conv2D)        (None, 3, 3, 512)         2359808   \n",
            "_________________________________________________________________\n",
            "block5_conv3 (Conv2D)        (None, 3, 3, 512)         2359808   \n",
            "_________________________________________________________________\n",
            "block5_pool (MaxPooling2D)   (None, 1, 1, 512)         0         \n",
            "=================================================================\n",
            "Total params: 14,714,688\n",
            "Trainable params: 14,714,688\n",
            "Non-trainable params: 0\n",
            "_________________________________________________________________\n"
          ],
          "name": "stdout"
        }
      ]
    },
    {
      "cell_type": "code",
      "metadata": {
        "id": "uzXKIP5PfGGg",
        "colab_type": "code",
        "colab": {
          "base_uri": "https://localhost:8080/",
          "height": 799
        },
        "outputId": "cabbc15e-d5f0-4b70-964a-a1d27431d6a2"
      },
      "source": [
        "model = Sequential()\n",
        "for layer in vgg16_model.layers[:-1]: # go through until last one layer\n",
        "    model.add(layer)\n",
        "model.add(Flatten())\n",
        "model.add(Dense(10, activation=\"softmax\"))\n",
        "model.summary()"
      ],
      "execution_count": null,
      "outputs": [
        {
          "output_type": "stream",
          "text": [
            "Model: \"sequential_7\"\n",
            "_________________________________________________________________\n",
            "Layer (type)                 Output Shape              Param #   \n",
            "=================================================================\n",
            "block1_conv1 (Conv2D)        (None, 48, 48, 64)        1792      \n",
            "_________________________________________________________________\n",
            "block1_conv2 (Conv2D)        (None, 48, 48, 64)        36928     \n",
            "_________________________________________________________________\n",
            "block1_pool (MaxPooling2D)   (None, 24, 24, 64)        0         \n",
            "_________________________________________________________________\n",
            "block2_conv1 (Conv2D)        (None, 24, 24, 128)       73856     \n",
            "_________________________________________________________________\n",
            "block2_conv2 (Conv2D)        (None, 24, 24, 128)       147584    \n",
            "_________________________________________________________________\n",
            "block2_pool (MaxPooling2D)   (None, 12, 12, 128)       0         \n",
            "_________________________________________________________________\n",
            "block3_conv1 (Conv2D)        (None, 12, 12, 256)       295168    \n",
            "_________________________________________________________________\n",
            "block3_conv2 (Conv2D)        (None, 12, 12, 256)       590080    \n",
            "_________________________________________________________________\n",
            "block3_conv3 (Conv2D)        (None, 12, 12, 256)       590080    \n",
            "_________________________________________________________________\n",
            "block3_pool (MaxPooling2D)   (None, 6, 6, 256)         0         \n",
            "_________________________________________________________________\n",
            "block4_conv1 (Conv2D)        (None, 6, 6, 512)         1180160   \n",
            "_________________________________________________________________\n",
            "block4_conv2 (Conv2D)        (None, 6, 6, 512)         2359808   \n",
            "_________________________________________________________________\n",
            "block4_conv3 (Conv2D)        (None, 6, 6, 512)         2359808   \n",
            "_________________________________________________________________\n",
            "block4_pool (MaxPooling2D)   (None, 3, 3, 512)         0         \n",
            "_________________________________________________________________\n",
            "block5_conv1 (Conv2D)        (None, 3, 3, 512)         2359808   \n",
            "_________________________________________________________________\n",
            "block5_conv2 (Conv2D)        (None, 3, 3, 512)         2359808   \n",
            "_________________________________________________________________\n",
            "block5_conv3 (Conv2D)        (None, 3, 3, 512)         2359808   \n",
            "_________________________________________________________________\n",
            "flatten_4 (Flatten)          (None, 4608)              0         \n",
            "_________________________________________________________________\n",
            "dense_7 (Dense)              (None, 10)                46090     \n",
            "=================================================================\n",
            "Total params: 14,760,778\n",
            "Trainable params: 14,760,778\n",
            "Non-trainable params: 0\n",
            "_________________________________________________________________\n"
          ],
          "name": "stdout"
        }
      ]
    },
    {
      "cell_type": "code",
      "metadata": {
        "id": "dVSiza0cfQbW",
        "colab_type": "code",
        "colab": {}
      },
      "source": [
        "from keras.optimizers import Adam,Adagrad"
      ],
      "execution_count": null,
      "outputs": []
    },
    {
      "cell_type": "code",
      "metadata": {
        "id": "tp8hspeRfQYD",
        "colab_type": "code",
        "colab": {}
      },
      "source": [
        "model.compile(Adam(lr=.0001),loss='categorical_crossentropy',metrics=['accuracy'])"
      ],
      "execution_count": null,
      "outputs": []
    },
    {
      "cell_type": "code",
      "metadata": {
        "id": "PC5-D738fP0-",
        "colab_type": "code",
        "colab": {
          "base_uri": "https://localhost:8080/",
          "height": 68
        },
        "outputId": "d7122bc2-867c-4f9c-f5fe-672024429832"
      },
      "source": [
        "history = model.fit(x_train_rgb_3d, y_train,batch_size=64,epochs=1,verbose=1,validation_data=(x_test_rgb_3d, y_test))"
      ],
      "execution_count": null,
      "outputs": [
        {
          "output_type": "stream",
          "text": [
            "Train on 60000 samples, validate on 10000 samples\n",
            "Epoch 1/1\n",
            "60000/60000 [==============================] - 71s 1ms/step - loss: 0.1033 - accuracy: 0.9710 - val_loss: 0.0360 - val_accuracy: 0.9896\n"
          ],
          "name": "stdout"
        }
      ]
    },
    {
      "cell_type": "code",
      "metadata": {
        "id": "GzU-uworhHsd",
        "colab_type": "code",
        "colab": {}
      },
      "source": [
        "import matplotlib.pylab as plt\n",
        "plt.figure()\n",
        "plt.ylabel(\"Loss (training and validation)\")\n",
        "plt.xlabel(\"Training Steps\")\n",
        "plt.ylim([0,2])\n",
        "plt.plot(hist[\"loss\"])\n",
        "plt.plot(hist[\"val_loss\"])\n",
        "\n",
        "plt.figure()\n",
        "plt.ylabel(\"Accuracy (training and validation)\")\n",
        "plt.xlabel(\"Training Steps\")\n",
        "plt.ylim([0,1])\n",
        "plt.plot(hist[\"accuracy\"])\n",
        "plt.plot(hist[\"val_accuracy\"])"
      ],
      "execution_count": null,
      "outputs": []
    },
    {
      "cell_type": "code",
      "metadata": {
        "id": "mzlTre9WftJ3",
        "colab_type": "code",
        "colab": {}
      },
      "source": [
        "model.compile(Adagrad(lr=.0001),loss='categorical_crossentropy',metrics=['accuracy'])"
      ],
      "execution_count": null,
      "outputs": []
    },
    {
      "cell_type": "code",
      "metadata": {
        "id": "_NaEgs7bfrw9",
        "colab_type": "code",
        "colab": {
          "base_uri": "https://localhost:8080/",
          "height": 850
        },
        "outputId": "9c01ce7b-ebf5-4e1c-9c24-c20dd3e43d79"
      },
      "source": [
        "hist= model.fit(x_train_rgb_3d, y_train,batch_size=64,epochs=100,verbose=1,validation_data=(x_test_rgb_3d, y_test)).history\n",
        "score = model.evaluate(x_test, y_test, verbose=0)                                              \n",
        "print('Test loss:', score[0])\n",
        "print('Test accuracy:', score[1]) "
      ],
      "execution_count": null,
      "outputs": [
        {
          "output_type": "stream",
          "text": [
            "Train on 60000 samples, validate on 10000 samples\n",
            "Epoch 1/100\n",
            "60000/60000 [==============================] - 65s 1ms/step - loss: 0.0072 - accuracy: 0.9980 - val_loss: 0.0133 - val_accuracy: 0.9961\n",
            "Epoch 2/100\n",
            "60000/60000 [==============================] - 64s 1ms/step - loss: 0.0053 - accuracy: 0.9986 - val_loss: 0.0140 - val_accuracy: 0.9962\n",
            "Epoch 3/100\n",
            "60000/60000 [==============================] - 64s 1ms/step - loss: 0.0043 - accuracy: 0.9989 - val_loss: 0.0147 - val_accuracy: 0.9961\n",
            "Epoch 4/100\n",
            "60000/60000 [==============================] - 64s 1ms/step - loss: 0.0035 - accuracy: 0.9991 - val_loss: 0.0145 - val_accuracy: 0.9963\n",
            "Epoch 5/100\n",
            "60000/60000 [==============================] - 64s 1ms/step - loss: 0.0030 - accuracy: 0.9993 - val_loss: 0.0141 - val_accuracy: 0.9962\n",
            "Epoch 6/100\n",
            "60000/60000 [==============================] - 64s 1ms/step - loss: 0.0025 - accuracy: 0.9994 - val_loss: 0.0149 - val_accuracy: 0.9961\n",
            "Epoch 7/100\n",
            "60000/60000 [==============================] - 65s 1ms/step - loss: 0.0022 - accuracy: 0.9995 - val_loss: 0.0157 - val_accuracy: 0.9962\n",
            "Epoch 8/100\n",
            "60000/60000 [==============================] - 65s 1ms/step - loss: 0.0019 - accuracy: 0.9996 - val_loss: 0.0158 - val_accuracy: 0.9962\n",
            "Epoch 9/100\n",
            "60000/60000 [==============================] - 65s 1ms/step - loss: 0.0016 - accuracy: 0.9996 - val_loss: 0.0165 - val_accuracy: 0.9960\n",
            "Epoch 10/100\n",
            "60000/60000 [==============================] - 64s 1ms/step - loss: 0.0014 - accuracy: 0.9997 - val_loss: 0.0173 - val_accuracy: 0.9959\n",
            "Epoch 11/100\n",
            "60000/60000 [==============================] - 64s 1ms/step - loss: 0.0012 - accuracy: 0.9998 - val_loss: 0.0178 - val_accuracy: 0.9962\n",
            "Epoch 12/100\n",
            "60000/60000 [==============================] - 64s 1ms/step - loss: 0.0011 - accuracy: 0.9998 - val_loss: 0.0180 - val_accuracy: 0.9960\n",
            "Epoch 13/100\n",
            "60000/60000 [==============================] - 65s 1ms/step - loss: 9.1376e-04 - accuracy: 0.9998 - val_loss: 0.0184 - val_accuracy: 0.9960\n",
            "Epoch 14/100\n",
            "60000/60000 [==============================] - 65s 1ms/step - loss: 8.1970e-04 - accuracy: 0.9998 - val_loss: 0.0189 - val_accuracy: 0.9960\n",
            "Epoch 15/100\n",
            "60000/60000 [==============================] - 64s 1ms/step - loss: 7.1800e-04 - accuracy: 0.9999 - val_loss: 0.0196 - val_accuracy: 0.9959\n",
            "Epoch 16/100\n",
            "60000/60000 [==============================] - 64s 1ms/step - loss: 6.3833e-04 - accuracy: 0.9999 - val_loss: 0.0206 - val_accuracy: 0.9958\n",
            "Epoch 17/100\n",
            "60000/60000 [==============================] - 64s 1ms/step - loss: 5.6412e-04 - accuracy: 0.9999 - val_loss: 0.0211 - val_accuracy: 0.9959\n",
            "Epoch 18/100\n",
            "60000/60000 [==============================] - 64s 1ms/step - loss: 5.0883e-04 - accuracy: 0.9999 - val_loss: 0.0215 - val_accuracy: 0.9959\n",
            "Epoch 19/100\n",
            "60000/60000 [==============================] - 65s 1ms/step - loss: 4.4721e-04 - accuracy: 0.9999 - val_loss: 0.0219 - val_accuracy: 0.9960\n",
            "Epoch 20/100\n",
            "60000/60000 [==============================] - 65s 1ms/step - loss: 4.0195e-04 - accuracy: 0.9999 - val_loss: 0.0227 - val_accuracy: 0.9959\n",
            "Epoch 21/100\n",
            "60000/60000 [==============================] - 65s 1ms/step - loss: 3.5043e-04 - accuracy: 0.9999 - val_loss: 0.0225 - val_accuracy: 0.9959\n",
            "Epoch 22/100\n",
            "60000/60000 [==============================] - 65s 1ms/step - loss: 3.1487e-04 - accuracy: 0.9999 - val_loss: 0.0233 - val_accuracy: 0.9958\n",
            "Epoch 23/100\n",
            "60000/60000 [==============================] - 65s 1ms/step - loss: 2.8373e-04 - accuracy: 0.9999 - val_loss: 0.0239 - val_accuracy: 0.9957\n",
            "Epoch 24/100\n",
            "55104/60000 [==========================>...] - ETA: 5s - loss: 2.6008e-04 - accuracy: 0.9999"
          ],
          "name": "stdout"
        }
      ]
    },
    {
      "cell_type": "code",
      "metadata": {
        "id": "BQgivbmogrKn",
        "colab_type": "code",
        "colab": {}
      },
      "source": [
        "from sklearn.metrics import classification_report,confusion_matrix,accuracy_score\n",
        "test_predictions = model.predict_classes(x_test, batch_size=128, verbose=0) \n",
        "import numpy as np\n",
        "rounded_labels=np.argmax(y_test, axis=1)\n",
        "rounded_labels[1]\n",
        "print(\"confusion matrix\")\n",
        "cm = confusion_matrix(rounded_labels, test_predictions)\n",
        "print(cm)\n",
        "print(\"classification report:\")\n",
        "print(classification_report(rounded_labels, test_predictions, target_names= None))\n",
        "print(\"Accuracy score:\")\n",
        "print(accuracy_score(rounded_labels,test_predictions))"
      ],
      "execution_count": null,
      "outputs": []
    },
    {
      "cell_type": "code",
      "metadata": {
        "id": "j-WOsDhRhEQQ",
        "colab_type": "code",
        "colab": {}
      },
      "source": [
        "import matplotlib.pylab as plt\n",
        "plt.figure()\n",
        "plt.ylabel(\"Loss (training and validation)\")\n",
        "plt.xlabel(\"Training Steps\")\n",
        "plt.ylim([0,2])\n",
        "plt.plot(hist[\"loss\"])\n",
        "plt.plot(hist[\"val_loss\"])\n",
        "\n",
        "plt.figure()\n",
        "plt.ylabel(\"Accuracy (training and validation)\")\n",
        "plt.xlabel(\"Training Steps\")\n",
        "plt.ylim([0,1])\n",
        "plt.plot(hist[\"accuracy\"])\n",
        "plt.plot(hist[\"val_accuracy\"])"
      ],
      "execution_count": null,
      "outputs": []
    },
    {
      "cell_type": "code",
      "metadata": {
        "id": "-wMdVsZAEkNE",
        "colab_type": "code",
        "colab": {}
      },
      "source": [
        "def change_model(model, new_input_shape=(None,40, 40, 1)):\n",
        "    model._layers[0].batch_input_shape= new_input_shape\n",
        "    # rebuild model architecture by exporting and importing via json\n",
        "    new_model = keras.models.model_from_json(model.to_json())\n",
        "    # Copy weights from old model to new one\n",
        "    for layers in new_model.layers:\n",
        "      try:\n",
        "        layers.set_weights(model.get_layer(name=layers.name).get_weights())\n",
        "        print(\"Loaded layer {}\".format(layers.name))\n",
        "      except:\n",
        "          print(\"Could not transfer weights for layer {}\".format(layers.name))\n",
        "      return new_model \n",
        "      "
      ],
      "execution_count": null,
      "outputs": []
    }
  ]
}